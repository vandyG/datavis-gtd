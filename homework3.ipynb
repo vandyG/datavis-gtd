{
 "cells": [
  {
   "cell_type": "code",
   "execution_count": null,
   "metadata": {},
   "outputs": [],
   "source": [
    "import numpy as np\n",
    "import pandas as pd\n",
    "import plotly.graph_objects as go\n",
    "from bokeh.io import output_notebook, show\n",
    "from bokeh.layouts import column\n",
    "from bokeh.models import CategoricalColorMapper, ColumnDataSource, CustomJS, HoverTool, RangeSlider\n",
    "from bokeh.palettes import Viridis256, linear_palette\n",
    "from bokeh.plotting import figure\n",
    "from pandas import options, read_csv, to_datetime\n",
    "from plotly.colors import qualitative"
   ]
  },
  {
   "cell_type": "code",
   "execution_count": null,
   "metadata": {},
   "outputs": [],
   "source": [
    "options.display.max_rows = None\n",
    "options.display.max_columns = None\n",
    "options.display.max_colwidth = None\n",
    "options.display.max_seq_items = None"
   ]
  },
  {
   "cell_type": "code",
   "execution_count": null,
   "metadata": {},
   "outputs": [],
   "source": [
    "data = read_csv(\n",
    "    \"data/region_08.csv\",\n",
    ")\n",
    "data.head()"
   ]
  },
  {
   "cell_type": "markdown",
   "metadata": {},
   "source": [
    "## Fixing Missing Dates\n",
    "- Back Fill if approx date is not valid. (As data is ordered by date.)\n",
    "- Fill with approx date if valid."
   ]
  },
  {
   "cell_type": "code",
   "execution_count": null,
   "metadata": {},
   "outputs": [],
   "source": [
    "data[\"event_date\"] = to_datetime(\n",
    "    data[[\"iyear\", \"imonth\", \"iday\"]].rename(columns={\"iyear\": \"year\", \"imonth\": \"month\", \"iday\": \"day\"}),\n",
    "    errors=\"coerce\",\n",
    ")\n",
    "approx_dates1 = to_datetime(data[\"approxdate\"], errors=\"coerce\", format=\"%m/%d/%Y\")\n",
    "approx_dates2 = to_datetime(data[\"approxdate\"], errors=\"coerce\", format=\"%B %d, %Y\")\n",
    "approx_dates3 = to_datetime(data[\"approxdate\"], errors=\"coerce\", format=\"%Y-%m-%d %H:%M:%S\")\n",
    "\n",
    "data[\"event_date\"] = data[approx_dates1.isnull() & approx_dates2.isnull() & approx_dates3.isnull()][\n",
    "    \"event_date\"\n",
    "].bfill()\n",
    "\n",
    "data = data.drop([\"iyear\", \"imonth\", \"iday\"], axis=1)\n",
    "\n",
    "data[\"event_date\"] = data[\"event_date\"].fillna(approx_dates1)\n",
    "data[\"event_date\"] = data[\"event_date\"].fillna(approx_dates2)\n",
    "data[\"event_date\"] = data[\"event_date\"].fillna(approx_dates3)\n",
    "\n",
    "data[\"year\"] = data[\"event_date\"].dt.year"
   ]
  },
  {
   "cell_type": "markdown",
   "metadata": {},
   "source": [
    "## Plotly: Attack Types area graph"
   ]
  },
  {
   "cell_type": "code",
   "execution_count": null,
   "metadata": {},
   "outputs": [],
   "source": [
    "df = data\n",
    "attack_types_df = pd.melt(\n",
    "    df,\n",
    "    id_vars=[\"eventid\", \"year\", \"country_txt\", \"latitude\", \"longitude\", \"nkill\", \"nkillter\", \"nwound\", \"nwoundte\"],\n",
    "    value_vars=[\"attacktype1_txt\", \"attacktype2_txt\", \"attacktype3_txt\"],\n",
    "    var_name=\"attack_column\",\n",
    "    value_name=\"attack_type\",\n",
    ")\n",
    "\n",
    "attack_types_df = attack_types_df.dropna(subset=[\"attack_type\"])"
   ]
  },
  {
   "cell_type": "code",
   "execution_count": null,
   "metadata": {},
   "outputs": [],
   "source": [
    "unique_attacktypes = np.sort(df[\"attacktype1_txt\"].unique())\n",
    "unique_years = np.sort(df[\"year\"].unique())\n",
    "\n",
    "multi_index = pd.MultiIndex.from_product(\n",
    "    [unique_attacktypes, unique_years],\n",
    "    names=[\"attacktype1_txt\", \"year\"],\n",
    ")"
   ]
  },
  {
   "cell_type": "code",
   "execution_count": null,
   "metadata": {},
   "outputs": [],
   "source": [
    "# 3. Attack Types by Year\n",
    "yearly_distribution = df.groupby([\"attacktype1_txt\", \"year\"]).size().reset_index(name=\"count\")\n",
    "yearly_distribution.head()"
   ]
  },
  {
   "cell_type": "code",
   "execution_count": null,
   "metadata": {},
   "outputs": [],
   "source": [
    "complete_yearly_distribution = (\n",
    "    yearly_distribution\n",
    "    .set_index([\"attacktype1_txt\", \"year\"])\n",
    "    .reindex(multi_index, fill_value=0)\n",
    "    .reset_index()\n",
    ")"
   ]
  },
  {
   "cell_type": "code",
   "execution_count": null,
   "metadata": {},
   "outputs": [],
   "source": [
    "complete_yearly_distribution.loc[ (complete_yearly_distribution[\"year\"] == 2009)]"
   ]
  },
  {
   "cell_type": "code",
   "execution_count": null,
   "metadata": {},
   "outputs": [],
   "source": [
    "colors = qualitative.D3"
   ]
  },
  {
   "cell_type": "code",
   "execution_count": null,
   "metadata": {},
   "outputs": [],
   "source": [
    "fig = go.Figure()\n",
    "for idx, atype in enumerate(unique_attacktypes):\n",
    "    color = colors[idx % len(colors)]\n",
    "    y = complete_yearly_distribution.loc[complete_yearly_distribution[\"attacktype1_txt\"] == atype, \"count\"]\n",
    "    fig.add_trace(go.Scatter(\n",
    "        x = unique_years,\n",
    "        y=y,\n",
    "        mode=\"lines\",\n",
    "        line={\"width\": 0.5, \"color\": color},\n",
    "        stackgroup=\"one\",\n",
    "        name=atype,\n",
    "        visible=True,\n",
    "    ))\n",
    "\n",
    "    fig.add_trace(go.Scatter(\n",
    "        x = unique_years,\n",
    "        y=y,\n",
    "        mode=\"lines\",\n",
    "        line={\"width\": 0.5, \"color\": color},\n",
    "        # stackgroup=\"one\",\n",
    "        fill=\"tonexty\",\n",
    "        name=atype,\n",
    "        visible=False,\n",
    "    ))\n",
    "\n",
    "    fig.add_trace(go.Scatter(\n",
    "        x = unique_years,\n",
    "        y=y,\n",
    "        mode=\"lines\",\n",
    "        line={\"width\": 0.5, \"color\": color},\n",
    "        stackgroup=\"one\",\n",
    "        # fill=\"tonexty\",\n",
    "        groupnorm=\"percent\",\n",
    "        name=atype,\n",
    "        visible=False,\n",
    "    ))\n",
    "\n",
    "fig.update_layout(\n",
    "    updatemenus=[\n",
    "        {\n",
    "            \"active\" : 0,\n",
    "            \"buttons\": [{\n",
    "                \"label\": \"Stacked\",\n",
    "                \"method\": \"update\",\n",
    "                \"args\": [{\"visible\": [idx % 3 == 0 for idx in range(3*len(unique_attacktypes))]}],\n",
    "            },\n",
    "            {\n",
    "                \"label\": \"Grouped\",\n",
    "                \"method\": \"update\",\n",
    "                \"args\": [{\"visible\": [idx % 3 == 1 for idx in range(3*len(unique_attacktypes))]}],\n",
    "            },\n",
    "            {\n",
    "                \"label\": \"100% Stacked\",\n",
    "                \"method\": \"update\",\n",
    "                \"args\": [{\"visible\": [idx % 3 == 2 for idx in range(3*len(unique_attacktypes))]}],\n",
    "            }],\n",
    "            \"xanchor\":\"left\",\n",
    "            \"yanchor\": \"bottom\",\n",
    "            \"pad\":{\"r\": 10, \"b\": 10},\n",
    "        },\n",
    "    ],\n",
    ")\n",
    "\n",
    "fig.show()"
   ]
  },
  {
   "cell_type": "markdown",
   "metadata": {},
   "source": [
    "## Bokeh: Target Types and Casualties"
   ]
  },
  {
   "cell_type": "code",
   "execution_count": null,
   "metadata": {},
   "outputs": [],
   "source": [
    "df = data[[\"year\", \"targtype1_txt\", \"nkill\", \"nwound\"]].fillna(0)\n",
    "df[\"total\"] = df[\"nkill\"] + df[\"nwound\"]\n",
    "\n",
    "df = df.groupby([\"year\", \"targtype1_txt\"], as_index=False).sum()"
   ]
  },
  {
   "cell_type": "code",
   "execution_count": null,
   "metadata": {},
   "outputs": [],
   "source": [
    "output_notebook()"
   ]
  },
  {
   "cell_type": "code",
   "execution_count": null,
   "metadata": {},
   "outputs": [],
   "source": [
    "target_types = sorted(df[\"targtype1_txt\"].unique())\n",
    "len(target_types)"
   ]
  },
  {
   "cell_type": "code",
   "execution_count": null,
   "metadata": {},
   "outputs": [],
   "source": [
    "df_initial = df.groupby([\"targtype1_txt\"], as_index=False).sum()\n",
    "\n",
    "min_size = 10\n",
    "max_size = 30\n",
    "min_total = df_initial[\"total\"].min()\n",
    "max_total = df_initial[\"total\"].max()\n",
    "\n",
    "if max_total - min_total > 0:\n",
    "    df_initial[\"size\"] = min_size + (df_initial[\"total\"] - min_total) / (max_total - min_total) * (max_size - min_size)\n",
    "else:\n",
    "    df_initial[\"size\"] = min_size"
   ]
  },
  {
   "cell_type": "code",
   "execution_count": null,
   "metadata": {},
   "outputs": [],
   "source": [
    "# Define color mapping\n",
    "palette = linear_palette(Viridis256, len(target_types))\n",
    "color_mapper = CategoricalColorMapper(factors=target_types, palette=palette)\n",
    "\n",
    "# Create data sources\n",
    "source = ColumnDataSource(df)  # Full yearly data\n",
    "plot_source = ColumnDataSource(df_initial)  # Aggregated data for the plot\n",
    "\n",
    "# Create the scatter plot\n",
    "p = figure(height=800, width=1000,\n",
    "           title=\"Casualties by Target Type\",\n",
    "           x_axis_label=\"Number Killed\",\n",
    "           y_axis_label=\"Number Wounded\",\n",
    "           tools=\"pan,wheel_zoom,box_zoom,reset\")\n",
    "\n",
    "scatter = p.scatter(\"nkill\", \"nwound\", source=plot_source,\n",
    "                    size=\"size\",\n",
    "                    color={\"field\": \"targtype1_txt\", \"transform\": color_mapper},\n",
    "                    legend_field=\"targtype1_txt\", fill_alpha=0.6)\n",
    "\n",
    "# Add hover tool\n",
    "hover = HoverTool(tooltips=[\n",
    "    (\"Target\", \"@targtype1_txt\"),\n",
    "    (\"Killed\", \"@nkill\"),\n",
    "    (\"Wounded\", \"@nwound\"),\n",
    "])\n",
    "p.add_tools(hover)\n",
    "\n",
    "# Configure legend\n",
    "p.legend.title = \"Target Types\"\n",
    "p.legend.location = \"top_right\"\n",
    "p.legend.click_policy = \"hide\"\n",
    "\n",
    "# Create year range slider\n",
    "year_slider = RangeSlider(start=int(df[\"year\"].min()),\n",
    "                          end=int(df[\"year\"].max()),\n",
    "                          value=(int(df[\"year\"].min()), int(df[\"year\"].max())),\n",
    "                          step=1,\n",
    "                          title=\"Year Range\")\n",
    "\n",
    "# Define CustomJS callback for aggregation and size recalculation\n",
    "# Corrected callback code\n",
    "callback = CustomJS(args={\n",
    "    \"source\": source,\n",
    "    \"slider\": year_slider,\n",
    "    \"plot_source\": plot_source,\n",
    "    \"all_target_types\": target_types,\n",
    "    \"min_size\": min_size,\n",
    "    \"max_size\": max_size,\n",
    "}, code=\"\"\"\n",
    "    const data = source.data;\n",
    "    const start = slider.value[0];\n",
    "    const end = slider.value[1];\n",
    "\n",
    "    let sums = {};\n",
    "    for (let tt of all_target_types) {\n",
    "        sums[tt] = {nkill: 0, nwound: 0, total: 0};\n",
    "    }\n",
    "\n",
    "    const year = data['year'];\n",
    "    const targtype = data['targtype1_txt'];\n",
    "    const nkill = data['nkill'];\n",
    "    const nwound = data['nwound'];\n",
    "    const total = data['total'];\n",
    "    for (let i = 0; i < year.length; i++) {\n",
    "        if (year[i] >= start && year[i] <= end) {\n",
    "            let tt = targtype[i];\n",
    "            if (sums[tt]) {\n",
    "                sums[tt].nkill += nkill[i];\n",
    "                sums[tt].nwound += nwound[i];\n",
    "                sums[tt].total += total[i];\n",
    "            }\n",
    "        }\n",
    "    }\n",
    "\n",
    "    let new_targtype = [];\n",
    "    let new_nkill = [];\n",
    "    let new_nwound = [];\n",
    "    let new_total = [];\n",
    "    let totals = [];\n",
    "    for (let tt of all_target_types) {\n",
    "        new_targtype.push(tt);\n",
    "        new_nkill.push(sums[tt].nkill);\n",
    "        new_nwound.push(sums[tt].nwound);\n",
    "        new_total.push(sums[tt].total);\n",
    "        totals.push(sums[tt].total);\n",
    "    }\n",
    "\n",
    "    let min_total = Math.min(...totals);\n",
    "    let max_total = Math.max(...totals);\n",
    "\n",
    "    let new_size = [];\n",
    "    if (max_total - min_total > 0) {\n",
    "        for (let t of totals) {\n",
    "            let size = min_size + (t - min_total) / (max_total - min_total) * (max_size - min_size);\n",
    "            new_size.push(size);\n",
    "        }\n",
    "    } else {\n",
    "        new_size = Array(totals.length).fill(min_size);\n",
    "    }\n",
    "\n",
    "    plot_source.data = {\n",
    "        'targtype1_txt': new_targtype,\n",
    "        'nkill': new_nkill,\n",
    "        'nwound': new_nwound,\n",
    "        'total': new_total,\n",
    "        'size': new_size\n",
    "    };\n",
    "    plot_source.change.emit();\n",
    "\"\"\")\n",
    "\n",
    "# Attach the callback to the slider\n",
    "year_slider.js_on_change(\"value\", callback)\n",
    "\n",
    "# Create layout and display\n",
    "layout = column(p, year_slider)\n",
    "# output_file(\"terrorism_scatter.html\")\n",
    "show(layout)"
   ]
  }
 ],
 "metadata": {
  "kernelspec": {
   "display_name": ".venv",
   "language": "python",
   "name": "python3"
  },
  "language_info": {
   "codemirror_mode": {
    "name": "ipython",
    "version": 3
   },
   "file_extension": ".py",
   "mimetype": "text/x-python",
   "name": "python",
   "nbconvert_exporter": "python",
   "pygments_lexer": "ipython3",
   "version": "3.12.2"
  }
 },
 "nbformat": 4,
 "nbformat_minor": 2
}
