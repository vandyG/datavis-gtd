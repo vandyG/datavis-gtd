{
 "cells": [
  {
   "cell_type": "code",
   "execution_count": null,
   "metadata": {},
   "outputs": [],
   "source": [
    "import pandas as pd\n",
    "import plotly.express as px\n",
    "import plotly.graph_objects as go\n",
    "import pycountry\n",
    "from pandas import NA, DataFrame, Index, options, read_csv, to_datetime\n",
    "from plotly.express import bar, density_map, line, scatter_geo\n",
    "from statsmodels.tsa.filters.hp_filter import hpfilter\n",
    "\n"
   ]
  },
  {
   "cell_type": "code",
   "execution_count": null,
   "metadata": {},
   "outputs": [],
   "source": [
    "options.display.max_rows = None\n",
    "options.display.max_columns = None\n",
    "options.display.max_colwidth = None\n",
    "options.display.max_seq_items = None"
   ]
  },
  {
   "cell_type": "code",
   "execution_count": null,
   "metadata": {},
   "outputs": [],
   "source": [
    "data = read_csv(\n",
    "    \"data/region_08.csv\",\n",
    ")\n",
    "data.head()"
   ]
  },
  {
   "cell_type": "code",
   "execution_count": null,
   "metadata": {},
   "outputs": [],
   "source": [
    "data.shape"
   ]
  },
  {
   "cell_type": "code",
   "execution_count": null,
   "metadata": {},
   "outputs": [],
   "source": [
    "data.columns\n",
    "\n"
   ]
  },
  {
   "cell_type": "code",
   "execution_count": null,
   "metadata": {},
   "outputs": [],
   "source": [
    "data.dtypes\n",
    "\n"
   ]
  },
  {
   "cell_type": "code",
   "execution_count": null,
   "metadata": {},
   "outputs": [],
   "source": [
    "data.info()"
   ]
  },
  {
   "cell_type": "code",
   "execution_count": null,
   "metadata": {},
   "outputs": [],
   "source": [
    "def separate_variables(df: DataFrame) -> tuple[Index, Index]:\n",
    "    \"\"\"Identify numeric and categorical columns.\n",
    "\n",
    "    Args:\n",
    "        df (DataFrame): Input Dataframe.\n",
    "\n",
    "    Returns:\n",
    "        tuple[Index[str], Index[str]]: Returns an index of numeric and catagrical cols.\n",
    "    \"\"\"\n",
    "    numeric_cols = df.select_dtypes(include=[\"int64\", \"float64\"]).columns\n",
    "    categorical_cols = df.select_dtypes(include=[\"object\", \"bool\"]).columns\n",
    "\n",
    "    return numeric_cols, categorical_cols\n",
    "\n"
   ]
  },
  {
   "cell_type": "code",
   "execution_count": null,
   "metadata": {},
   "outputs": [],
   "source": [
    "numeric_cols, categorical_cols = separate_variables(data)\n",
    "print(\"Numeric:\", len(numeric_cols))  # noqa: T201\n",
    "print(\"Categorical:\", len(categorical_cols))  # noqa: T201\n",
    "\n"
   ]
  },
  {
   "cell_type": "markdown",
   "metadata": {},
   "source": [
    "## Cardinality Analysis"
   ]
  },
  {
   "cell_type": "code",
   "execution_count": null,
   "metadata": {},
   "outputs": [],
   "source": [
    "def analyze_categorical_cardinality(df: DataFrame, input_cols: Index) -> None:\n",
    "    \"\"\"Calculate cardinality for each categorical column.\n",
    "\n",
    "    Args:\n",
    "        df (DataFrame): Input dataframe.\n",
    "        input_cols (Index[str]): List of columns.\n",
    "    \"\"\"\n",
    "    # Calculate cardinality for each categorical column\n",
    "    cardinality_dict = {}\n",
    "    for column in input_cols:\n",
    "        # Get number of unique values (excluding nulls)\n",
    "        unique_count = df[column].nunique()\n",
    "        # Get number of missing values\n",
    "        missing_count = df[column].isnull().sum()\n",
    "        # Calculate percentage of unique values\n",
    "        unique_percentage = (unique_count / df[column].count()) * 100\n",
    "        # Get value counts for most common categories\n",
    "        # Calculate percentage of unique values\n",
    "        missing_percentage = (missing_count / len(df)) * 100\n",
    "        # Get value counts for most common categories\n",
    "        top_values = df[column].value_counts().head(5)\n",
    "\n",
    "        cardinality_dict[column] = {\n",
    "            \"unique_count\": unique_count,\n",
    "            \"missing_count\": missing_count,\n",
    "            \"missing_percentage\": missing_percentage,\n",
    "            \"unique_percentage\": unique_percentage,\n",
    "            \"top_values\": top_values,\n",
    "        }\n",
    "\n",
    "    # Create a summary dataframe\n",
    "    summary_data = {\n",
    "        # \"Unique_Count\": [d[\"unique_count\"] for d in cardinality_dict.values()],\n",
    "        # \"Missing_Count\": [d[\"missing_count\"] for d in cardinality_dict.values()],\n",
    "        \"Missing_Percentage\": [d[\"missing_percentage\"] for d in cardinality_dict.values()],\n",
    "        \"Unique_Percentage\": [d[\"unique_percentage\"] for d in cardinality_dict.values()],\n",
    "        # \"Top\": [d[\"top_values\"] for d in cardinality_dict.values()],\n",
    "    }\n",
    "\n",
    "    summary_df = DataFrame(summary_data, index=input_cols)\n",
    "    summary_df = summary_df.sort_values(\"Unique_Percentage\", ascending=False)\n",
    "\n",
    "    # Print detailed analysis\n",
    "    print(\"=== Categorical Variables Cardinality Analysis ===\\n\")  # noqa: T201\n",
    "    print(summary_df)  # noqa: T201\n",
    "\n"
   ]
  },
  {
   "cell_type": "markdown",
   "metadata": {},
   "source": [
    "### Categorical Cols"
   ]
  },
  {
   "cell_type": "code",
   "execution_count": null,
   "metadata": {},
   "outputs": [],
   "source": [
    "analyze_categorical_cardinality(data, categorical_cols)"
   ]
  },
  {
   "cell_type": "markdown",
   "metadata": {},
   "source": [
    "### Numeric Cols"
   ]
  },
  {
   "cell_type": "code",
   "execution_count": null,
   "metadata": {},
   "outputs": [],
   "source": [
    "analyze_categorical_cardinality(data, numeric_cols)"
   ]
  },
  {
   "cell_type": "markdown",
   "metadata": {},
   "source": [
    "## Duplicate Analysis"
   ]
  },
  {
   "cell_type": "code",
   "execution_count": null,
   "metadata": {},
   "outputs": [],
   "source": [
    "any(data.duplicated(subset=[\"eventid\"]))\n",
    "\n"
   ]
  },
  {
   "cell_type": "markdown",
   "metadata": {},
   "source": [
    "## Fixing Missing Dates\n",
    "- Back Fill if approx date is not valid. (As data is ordered by date.)\n",
    "- Fill with approx date if valid."
   ]
  },
  {
   "cell_type": "code",
   "execution_count": null,
   "metadata": {},
   "outputs": [],
   "source": [
    "data[\"event_date\"] = to_datetime(\n",
    "    data[[\"iyear\", \"imonth\", \"iday\"]].rename(columns={\"iyear\": \"year\", \"imonth\": \"month\", \"iday\": \"day\"}),\n",
    "    errors=\"coerce\",\n",
    ")\n",
    "approx_dates1 = to_datetime(data[\"approxdate\"], errors=\"coerce\", format=\"%m/%d/%Y\")\n",
    "approx_dates2 = to_datetime(data[\"approxdate\"], errors=\"coerce\", format=\"%B %d, %Y\")\n",
    "approx_dates3 = to_datetime(data[\"approxdate\"], errors=\"coerce\", format=\"%Y-%m-%d %H:%M:%S\")\n",
    "\n",
    "data[\"event_date\"] = data[approx_dates1.isnull() & approx_dates2.isnull() & approx_dates3.isnull()][\n",
    "    \"event_date\"\n",
    "].bfill()\n",
    "\n",
    "data = data.drop([\"iyear\", \"imonth\", \"iday\"], axis=1)\n",
    "\n",
    "data[\"event_date\"] = data[\"event_date\"].fillna(approx_dates1)\n",
    "data[\"event_date\"] = data[\"event_date\"].fillna(approx_dates2)\n",
    "data[\"event_date\"] = data[\"event_date\"].fillna(approx_dates3)\n",
    "\n",
    "data[\"year\"] = data[\"event_date\"].dt.year"
   ]
  },
  {
   "cell_type": "markdown",
   "metadata": {},
   "source": [
    "## Events by Region"
   ]
  },
  {
   "cell_type": "code",
   "execution_count": null,
   "metadata": {},
   "outputs": [],
   "source": [
    "data[\"region\"].unique()"
   ]
  },
  {
   "cell_type": "code",
   "execution_count": null,
   "metadata": {},
   "outputs": [],
   "source": [
    "data[\"region_txt\"].unique()"
   ]
  },
  {
   "cell_type": "code",
   "execution_count": null,
   "metadata": {},
   "outputs": [],
   "source": [
    "countries = {}\n",
    "for country in pycountry.countries:\n",
    "    countries[country.name] = country.alpha_3\n",
    "\n",
    "codes = {country: countries.get(country, \"Unknown code\") for country in data[\"country_txt\"].unique()}\n",
    "codes[\"West Germany (FRG)\"] = \"DEU\"\n",
    "codes[\"Vatican City\"] = \"VAT\"\n",
    "\n",
    "data[\"codes\"] = data[\"country_txt\"].apply(lambda x: codes[x])"
   ]
  },
  {
   "cell_type": "markdown",
   "metadata": {},
   "source": [
    "*This data is only for Western Europe.*"
   ]
  },
  {
   "cell_type": "markdown",
   "metadata": {},
   "source": [
    "# Attacks in Eastern Europe"
   ]
  },
  {
   "cell_type": "markdown",
   "metadata": {},
   "source": [
    "## Total Attacks"
   ]
  },
  {
   "cell_type": "code",
   "execution_count": null,
   "metadata": {},
   "outputs": [],
   "source": [
    "# Sort by event date.\n",
    "data = data.sort_values(\"event_date\")\n",
    "\n",
    "# Create a daily time series: count events per day\n",
    "daily_counts = data.groupby(\"event_date\").agg(count=(\"eventid\", \"count\"))\n",
    "daily_counts = daily_counts.asfreq(\"D\", fill_value=0)  # Ensure continuous dates\n",
    "\n",
    "# Aggregate to monthly counts.\n",
    "monthly_counts = daily_counts[\"count\"].resample(\"ME\").sum()\n",
    "\n",
    "# Aggregate to yearly counts.\n",
    "yearly_counts = daily_counts[\"count\"].resample(\"YE\").sum()\n",
    "\n",
    "# Detecting Trend Using a Hodrick-Prescott Filter\n",
    "sw_cycle, sw_trend = hpfilter(yearly_counts, lamb=100)\n",
    "# sw_trend.plot(figsize=(10, 5)).autoscale(axis=\"x\", tight=True)\n",
    "\n",
    "fig = go.Figure()\n",
    "\n",
    "# Daily view: raw\n",
    "fig.add_trace(\n",
    "    go.Scatter(\n",
    "        x=daily_counts.index,\n",
    "        y=daily_counts[\"count\"],\n",
    "        mode=\"lines\",\n",
    "        name=\"Daily Count\",\n",
    "        visible=False,\n",
    "    ),\n",
    ")\n",
    "\n",
    "# Monthly view: aggregated\n",
    "fig.add_trace(\n",
    "    go.Scatter(\n",
    "        x=monthly_counts.index,\n",
    "        y=monthly_counts,\n",
    "        mode=\"lines\",\n",
    "        name=\"Monthly Count\",\n",
    "        visible=False,\n",
    "    ),\n",
    ")\n",
    "\n",
    "# Yearly view: aggregated\n",
    "fig.add_trace(\n",
    "    go.Scatter(\n",
    "        x=yearly_counts.index,\n",
    "        y=yearly_counts,\n",
    "        mode=\"lines\",\n",
    "        name=\"Yearly Count\",\n",
    "        visible=True,\n",
    "    ),\n",
    ")\n",
    "\n",
    "# Yearly view: Trend\n",
    "fig.add_trace(\n",
    "    go.Scatter(\n",
    "        x=sw_trend.index,\n",
    "        y=sw_trend,\n",
    "        mode=\"lines\",\n",
    "        name=\"Trend\",\n",
    "        visible=True,\n",
    "        line={\"color\": \"#c7947c\"},\n",
    "    ),\n",
    ")\n",
    "\n",
    "# --- 3. Add update buttons to toggle between views ---\n",
    "\n",
    "fig.update_layout(\n",
    "    updatemenus=[\n",
    "        {\n",
    "            \"active\": 0,\n",
    "            \"buttons\": [\n",
    "                {\n",
    "                    \"label\": \"Yearly\",\n",
    "                    \"method\": \"update\",\n",
    "                    \"args\": [{\"visible\": [False, False, True, True]}, {\"title\": \"Yearly Event Counts\"}],\n",
    "                },\n",
    "                {\n",
    "                    \"label\": \"Monthly\",\n",
    "                    \"method\": \"update\",\n",
    "                    \"args\": [{\"visible\": [False, True, False, False]}, {\"title\": \"Monthly Event Counts\"}],\n",
    "                },\n",
    "                {\n",
    "                    \"label\": \"Daily\",\n",
    "                    \"method\": \"update\",\n",
    "                    \"args\": [{\"visible\": [True, False, False, False]}, {\"title\": \"Daily Event Counts\"}],\n",
    "                },\n",
    "            ],\n",
    "            \"x\": 1.0,\n",
    "            \"xanchor\": \"right\",\n",
    "            \"y\": 1.1,\n",
    "            \"yanchor\": \"bottom\",\n",
    "        },\n",
    "    ],\n",
    ")\n",
    "\n",
    "# Add range slider and selector on the x-axis\n",
    "fig.update_layout(\n",
    "    xaxis={\n",
    "        \"title\": \"Date\",\n",
    "        \"rangeslider\": {\"visible\": True},\n",
    "        \"rangeselector\": {\n",
    "            \"buttons\": [\n",
    "                {\"count\": 1, \"label\": \"1m\", \"step\": \"month\", \"stepmode\": \"backward\"},\n",
    "                {\"count\": 6, \"label\": \"6m\", \"step\": \"month\", \"stepmode\": \"backward\"},\n",
    "                {\"count\": 1, \"label\": \"YTD\", \"step\": \"year\", \"stepmode\": \"todate\"},\n",
    "                {\"count\": 1, \"label\": \"1y\", \"step\": \"year\", \"stepmode\": \"backward\"},\n",
    "                {\"step\": \"all\"},\n",
    "            ],\n",
    "        },\n",
    "        \"type\": \"date\",\n",
    "    },\n",
    "    yaxis={\"title\": \"Event Count\"},\n",
    "    title=\"Number of attacks over the years\",\n",
    ")\n",
    "\n",
    "fig.show()\n",
    "\n"
   ]
  },
  {
   "cell_type": "markdown",
   "metadata": {},
   "source": [
    "The nuber of events peaked in 1979.  \n",
    "No data or no attacks in the year 1993.  \n",
    "The trend shows a rise in recent years.  "
   ]
  },
  {
   "cell_type": "markdown",
   "metadata": {},
   "source": [
    "## Attacks by Country"
   ]
  },
  {
   "cell_type": "markdown",
   "metadata": {},
   "source": [
    "### Total incidents"
   ]
  },
  {
   "cell_type": "code",
   "execution_count": null,
   "metadata": {},
   "outputs": [],
   "source": [
    "total_counts = data.groupby(\"country_txt\").size().reset_index(name=\"counts\")\n",
    "total_counts = total_counts.sort_values(by=\"counts\")\n"
   ]
  },
  {
   "cell_type": "code",
   "execution_count": null,
   "metadata": {},
   "outputs": [],
   "source": [
    "fig = bar(\n",
    "    total_counts,\n",
    "    x=\"country_txt\",\n",
    "    y=\"counts\",\n",
    "    labels={\"country_txt\": \"Countries\", \"counts\": \"Incidents\"},\n",
    "    title=\"Most affected Countries\",\n",
    ")\n",
    "fig.show()\n"
   ]
  },
  {
   "cell_type": "markdown",
   "metadata": {},
   "source": [
    "Most attacks have occured in UK over the year."
   ]
  },
  {
   "cell_type": "markdown",
   "metadata": {},
   "source": [
    "### Attacks Every Year (Animated)"
   ]
  },
  {
   "cell_type": "code",
   "execution_count": null,
   "metadata": {},
   "outputs": [],
   "source": [
    "yearly_counts = data.groupby([\"year\", \"country\", \"country_txt\", \"codes\"]).size().reset_index(name=\"count\")\n",
    "yearly_counts[\"total_py\"] = yearly_counts.groupby(\"year\")[\"count\"].transform(\"sum\")\n",
    "yearly_counts[\"proportion\"] = yearly_counts[\"count\"] / yearly_counts[\"total_py\"]\n"
   ]
  },
  {
   "cell_type": "code",
   "execution_count": null,
   "metadata": {},
   "outputs": [],
   "source": [
    "yearly_counts.head()"
   ]
  },
  {
   "cell_type": "code",
   "execution_count": null,
   "metadata": {},
   "outputs": [],
   "source": [
    "fig = scatter_geo(\n",
    "    yearly_counts,\n",
    "    locations=\"codes\",\n",
    "    hover_name=\"country_txt\",\n",
    "    size=\"proportion\",\n",
    "    animation_frame=\"year\",\n",
    "    projection=\"natural earth\",\n",
    "    title=\"Incidents by year\",\n",
    "    size_max=30,\n",
    ")\n",
    "\n",
    "# fig.update_geos(fitbounds=\"locations\")\n",
    "\n",
    "fig.update_geos(\n",
    "    visible=True,\n",
    "    resolution=110,\n",
    "    scope=\"europe\",\n",
    "    showcountries=True,\n",
    ")\n",
    "\n",
    "fig.show()"
   ]
  },
  {
   "cell_type": "markdown",
   "metadata": {},
   "source": [
    "*West Germany faced most attacks in the year 1970. It has since then mostly been domitaed by the UK.\n",
    "Spain saw a significant increase in year 1975, followed by Italy in 1976/77/78. Massive number of attacks in France in year 1996. 63% of attacks in 2009 were in Greece.*"
   ]
  },
  {
   "cell_type": "markdown",
   "metadata": {},
   "source": [
    "### Incident Locations"
   ]
  },
  {
   "cell_type": "markdown",
   "metadata": {},
   "source": [
    "#### Attacks at different coordinates."
   ]
  },
  {
   "cell_type": "code",
   "execution_count": null,
   "metadata": {},
   "outputs": [],
   "source": [
    "years = sorted(data[\"year\"].unique())\n",
    "countries = sorted(data[\"country_txt\"].unique())\n",
    "\n",
    "initial_year = years[0]\n",
    "df_initial = data[data[\"year\"] == initial_year]\n",
    "\n",
    "# Create the figure and add one trace per country (for the initial year)\n",
    "fig = go.Figure()\n",
    "\n",
    "for country in countries:\n",
    "    df_country = df_initial[df_initial[\"country_txt\"] == country]\n",
    "    fig.add_trace(\n",
    "        go.Scattergeo(\n",
    "            lon=df_country[\"longitude\"],\n",
    "            lat=df_country[\"latitude\"],\n",
    "            text=df_country[\"event_date\"],\n",
    "            mode=\"markers\",\n",
    "            marker={\"size\": 8, \"opacity\": 0.7},\n",
    "            name=country,\n",
    "        ),\n",
    "    )\n",
    "\n",
    "# Build animation frames - one frame for each year\n",
    "frames = []\n",
    "for year in years:\n",
    "    frame_traces = []\n",
    "    df_year = data[data[\"year\"] == year]\n",
    "    for country in countries:\n",
    "        df_country = df_year[df_year[\"country_txt\"] == country]\n",
    "        # Each trace in the frame corresponds to the country trace created above\n",
    "        frame_traces.append(\n",
    "            go.Scattergeo(\n",
    "                lon=df_country[\"longitude\"],\n",
    "                lat=df_country[\"latitude\"],\n",
    "                text=df_country[\"event_date\"],\n",
    "                mode=\"markers\",\n",
    "                marker={\"size\": 8, \"opacity\": 0.7},\n",
    "                name=country,\n",
    "            ),\n",
    "        )\n",
    "    frames.append(go.Frame(data=frame_traces, name=str(year)))\n",
    "\n",
    "fig.frames = frames\n",
    "\n",
    "# Create a slider that will step through each year\n",
    "slider_steps = []\n",
    "for year in years:\n",
    "    step = {\n",
    "        \"method\": \"animate\",\n",
    "        \"args\": [[str(year)], {\"frame\": {\"duration\": 500, \"redraw\": True}, \"mode\": \"immediate\"}],\n",
    "        \"label\": str(year),\n",
    "    }\n",
    "    slider_steps.append(step)\n",
    "\n",
    "sliders = [\n",
    "    {\n",
    "        \"active\": 0,\n",
    "        \"currentvalue\": {\"prefix\": \"Year: \"},\n",
    "        \"pad\": {\"t\": 50},\n",
    "        \"steps\": slider_steps,\n",
    "    },\n",
    "]\n",
    "\n",
    "# Create a dropdown menu for filtering by country.\n",
    "# When \"All\" is selected, all country traces are visible.\n",
    "# When a specific country is selected, only that trace is shown.\n",
    "updatemenus = [\n",
    "    {\n",
    "        \"buttons\": list(\n",
    "            [\n",
    "                {\n",
    "                    \"args\": [{\"visible\": [True] * len(countries)}],\n",
    "                    \"label\": \"All\",\n",
    "                    \"method\": \"update\",\n",
    "                },\n",
    "            ]\n",
    "            + [\n",
    "                {\n",
    "                    \"args\": [{\"visible\": [c == country for c in countries]}],\n",
    "                    \"label\": country,\n",
    "                    \"method\": \"update\",\n",
    "                }\n",
    "                for country in countries\n",
    "            ],\n",
    "        ),\n",
    "        \"direction\": \"down\",\n",
    "        \"pad\": {\"r\": 10, \"t\": 10},\n",
    "        \"showactive\": True,\n",
    "        \"x\": 0.1,\n",
    "        \"xanchor\": \"left\",\n",
    "        \"y\": 1.15,\n",
    "        \"yanchor\": \"top\",\n",
    "    },\n",
    "]\n",
    "\n",
    "# Update the layout with the geo map settings, slider, and dropdown menu\n",
    "fig.update_layout(\n",
    "    title=\"Terrorist Events in Western Europe\",\n",
    "    geo={\n",
    "        \"scope\": \"europe\",\n",
    "        \"projection_type\": \"natural earth\",\n",
    "    },\n",
    "    sliders=sliders,\n",
    "    updatemenus=updatemenus,\n",
    ")\n",
    "\n",
    "# Display the figure\n",
    "fig.show()\n",
    "\n"
   ]
  },
  {
   "cell_type": "markdown",
   "metadata": {},
   "source": [
    "#### Attack Densities"
   ]
  },
  {
   "cell_type": "code",
   "execution_count": null,
   "metadata": {},
   "outputs": [],
   "source": [
    "# Create a density heatmap\n",
    "fig = density_map(data, lat=\"latitude\", lon=\"longitude\",\n",
    "                        radius=10,  # Adjust for density scaling\n",
    "                        center={\"lat\": data[\"latitude\"].mean(), \"lon\": data[\"longitude\"].mean()},\n",
    "                        zoom=2)\n",
    "\n",
    "fig.update_layout(coloraxis_showscale=False, title=\"Attack densities across Europe\")\n",
    "\n",
    "fig.show()"
   ]
  },
  {
   "cell_type": "markdown",
   "metadata": {},
   "source": [
    "*Most attacks in UK condensed in Northern Ireland. Lot of attacks in France occuring in Corsica and Paris. Most big cities in Germany have been epicenters of the attacks like Frankfurt. Capital cities seem to be target in majority of cases.*"
   ]
  },
  {
   "cell_type": "markdown",
   "metadata": {},
   "source": [
    "# Casualties and Consequences"
   ]
  },
  {
   "cell_type": "markdown",
   "metadata": {},
   "source": [
    "## Across Eastern Europe"
   ]
  },
  {
   "cell_type": "code",
   "execution_count": null,
   "metadata": {},
   "outputs": [],
   "source": [
    "total_killings = data.groupby([\"year\"])[[\"nkill\", \"nkillter\", \"nwound\", \"nwoundte\"]].sum()"
   ]
  },
  {
   "cell_type": "code",
   "execution_count": null,
   "metadata": {},
   "outputs": [],
   "source": [
    "fig = go.Figure()\n",
    "\n",
    "fig.add_trace(go.Scatter(\n",
    "    x=total_killings.index, y=total_killings[\"nkill\"],\n",
    "    mode=\"lines+markers\",\n",
    "    name=\"Total Killed\",\n",
    "))\n",
    "fig.add_trace(go.Scatter(\n",
    "    x=total_killings.index, y=total_killings[\"nkillter\"],\n",
    "    mode=\"lines+markers\",\n",
    "    name=\"Terrorists Killed\",\n",
    "))\n",
    "fig.add_trace(go.Scatter(\n",
    "    x=total_killings.index, y=total_killings[\"nwound\"],\n",
    "    mode=\"lines+markers\",\n",
    "    name=\"Total Wounded\",\n",
    "))\n",
    "fig.add_trace(go.Scatter(\n",
    "    x=total_killings.index, y=total_killings[\"nwoundte\"],\n",
    "    mode=\"lines+markers\",\n",
    "    name=\"Terrorists Wounded\",\n",
    "))\n",
    "\n",
    "fig.update_layout(\n",
    "    {\"title\": \"Casualities/Consequences each year\"},\n",
    "     xaxis={\n",
    "        \"title\": {\n",
    "            \"text\": \"X Axis Title\",\n",
    "        },\n",
    "    },\n",
    "    yaxis={\n",
    "        \"title\": {\n",
    "            \"text\": \"Y Axis Title\",\n",
    "        },\n",
    "    },\n",
    ")\n",
    "\n",
    "fig.show()"
   ]
  },
  {
   "cell_type": "markdown",
   "metadata": {},
   "source": [
    "- No. of wounded peaks in 2004, with over 1853. 196 total fatalities, the number less in comparison to wounded however still among the top fatalities figures.\n",
    "- Most fatal attacks between 1970 and 1989.\n",
    "- 16 Terrorists killed recently in 2017."
   ]
  },
  {
   "cell_type": "markdown",
   "metadata": {},
   "source": [
    "## By Countries"
   ]
  },
  {
   "cell_type": "code",
   "execution_count": null,
   "metadata": {},
   "outputs": [],
   "source": [
    "country_killings = data.groupby([\"country_txt\", \"codes\"])[[\"nkill\", \"nkillter\", \"nwound\", \"nwoundte\"]].sum().reset_index(1)"
   ]
  },
  {
   "cell_type": "code",
   "execution_count": null,
   "metadata": {},
   "outputs": [],
   "source": [
    "unique_countries = data[[\"country_txt\", \"codes\"]].drop_duplicates()\n",
    "unique_years = data[\"year\"].unique()\n",
    "\n",
    "all_combs = pd.MultiIndex.from_tuples(\n",
    "    [(row.country_txt, row.codes, year)\n",
    "     for _, row in unique_countries.iterrows()\n",
    "     for year in unique_years],\n",
    "    names=[\"country_txt\", \"codes\", \"year\"],\n",
    ")\n",
    "\n",
    "grouped = data.groupby([\"country_txt\",\"codes\", \"year\"])[[\"nkill\", \"nkillter\", \"nwound\", \"nwoundte\"]].sum().reset_index()\n",
    "\n",
    "df_indexed = grouped.set_index([\"country_txt\", \"codes\", \"year\"])\n",
    "df_reindexed = df_indexed.reindex(all_combs, fill_value=0)"
   ]
  },
  {
   "cell_type": "code",
   "execution_count": null,
   "metadata": {},
   "outputs": [],
   "source": [
    "complete_data=df_reindexed.reset_index()"
   ]
  },
  {
   "cell_type": "code",
   "execution_count": null,
   "metadata": {},
   "outputs": [],
   "source": [
    "complete_data = complete_data[~(((complete_data[\"codes\"] == \"DEU\") & (complete_data[\"country_txt\"] == \"Germany\") & (complete_data[\"year\"] < 1991)) | ((complete_data[\"codes\"] == \"DEU\") & (complete_data[\"country_txt\"] == \"West Germany (FRG)\") & (complete_data[\"year\"] > 1990)))]"
   ]
  },
  {
   "cell_type": "code",
   "execution_count": null,
   "metadata": {},
   "outputs": [],
   "source": [
    "df = complete_data\n",
    "years = sorted(df[\"year\"].unique())\n",
    "\n",
    "metrics = {\n",
    "    \"nkill\": \"Total Killed\",\n",
    "    \"nkillter\": \"Total Terrorists Killed\",\n",
    "    \"nwound\": \"Total Wounded\",\n",
    "    \"nwoundte\": \"Total Terrorists Wounded\",\n",
    "}\n",
    "\n",
    "default_metric = \"nkill\"\n",
    "\n",
    "df_init = df[df[\"year\"] == years[0]]\n",
    "fig = go.Figure(\n",
    "    data=[go.Choropleth(\n",
    "        locations = df_init[\"codes\"],\n",
    "        z = df_init[default_metric],\n",
    "        text = df_init[\"country_txt\"],\n",
    "        colorscale = \"Reds\",\n",
    "        marker_line_color = \"darkgrey\",\n",
    "        colorbar = {\"title\": metrics[default_metric]},\n",
    "    )],\n",
    ")\n",
    "\n",
    "\n",
    "frames = []\n",
    "for metric, label in metrics.items():\n",
    "    for year in years:\n",
    "        df_year = df[df[\"year\"] == year]\n",
    "        frames.append(go.Frame(\n",
    "            data=[go.Choropleth(\n",
    "                locations = df_year[\"codes\"],\n",
    "                z = df_year[metric],\n",
    "                text = df_year[\"country_txt\"],\n",
    "                colorscale = \"Reds\",\n",
    "                marker_line_color = \"darkgrey\",\n",
    "                colorbar = {\"title\": label},\n",
    "            )],\n",
    "            name = f\"{metric}_{year}\",\n",
    "        ))\n",
    "fig.frames = frames\n",
    "\n",
    "slider_steps = []\n",
    "for year in years:\n",
    "    slider_steps.append({\n",
    "        \"method\": \"animate\",\n",
    "        \"label\": str(year),\n",
    "        \"args\": [\n",
    "            [f\"{default_metric}_{year}\"],\n",
    "            {\"frame\": {\"duration\": 500, \"redraw\": True},\n",
    "             \"mode\": \"immediate\",\n",
    "             \"transition\": {\"duration\": 300}},\n",
    "        ],\n",
    "    })\n",
    "sliders = [{\n",
    "    \"active\": 0,\n",
    "    \"currentvalue\": {\"prefix\": \"Year: \"},\n",
    "    \"pad\": {\"t\": 50},\n",
    "    \"steps\": slider_steps,\n",
    "}]\n",
    "\n",
    "dropdown_buttons = []\n",
    "for metric, label in metrics.items():\n",
    "    dropdown_buttons.append({\n",
    "        \"label\": label,\n",
    "        \"method\": \"animate\",\n",
    "        \"args\": [\n",
    "            [f\"{metric}_{years[0]}\"],\n",
    "            {\"frame\": {\"duration\": 0, \"redraw\": True},\n",
    "             \"mode\": \"immediate\",\n",
    "             \"transition\": {\"duration\": 0}},\n",
    "        ],\n",
    "    })\n",
    "updatemenus = [{\n",
    "    \"buttons\": dropdown_buttons,\n",
    "    \"direction\": \"down\",\n",
    "    \"pad\": {\"r\": 10, \"t\": 10},\n",
    "    \"showactive\": True,\n",
    "    \"x\": 0.1,\n",
    "    \"xanchor\": \"left\",\n",
    "    \"y\": 1.15,\n",
    "    \"yanchor\": \"top\",\n",
    "}]\n",
    "\n",
    "fig.update_layout(\n",
    "    title_text=\"Casualities and consequences by Year\",\n",
    "    geo = {\"showframe\": False, \"projection_type\": \"equirectangular\", \"scope\": \"europe\"},\n",
    "    sliders = sliders,\n",
    "    updatemenus = updatemenus,\n",
    ")\n",
    "\n",
    "fig.show()\n"
   ]
  },
  {
   "cell_type": "markdown",
   "metadata": {},
   "source": [
    "*The 2004 peaks can be corresponded to the attacks in Spain and 2016 to France*"
   ]
  },
  {
   "cell_type": "markdown",
   "metadata": {},
   "source": [
    "# Attack Information"
   ]
  },
  {
   "cell_type": "markdown",
   "metadata": {},
   "source": [
    "## Incident Criterias"
   ]
  },
  {
   "cell_type": "code",
   "execution_count": null,
   "metadata": {},
   "outputs": [],
   "source": [
    "data[\"doubtterr\"] = data[\"doubtterr\"].replace(-9, NA)\n"
   ]
  },
  {
   "cell_type": "code",
   "execution_count": null,
   "metadata": {},
   "outputs": [],
   "source": [
    "crit_counts = data.groupby(\"year\")[[\"crit1\", \"crit2\", \"crit3\", \"doubtterr\"]].sum().reset_index()\n",
    "crit_counts.head()\n"
   ]
  },
  {
   "cell_type": "code",
   "execution_count": null,
   "metadata": {},
   "outputs": [],
   "source": [
    "fig = go.Figure()\n",
    "\n",
    "legend_labels = {\n",
    "    \"crit1\": \"Political, Economic,<br>Religious, or Social Goal\",\n",
    "    \"crit2\": \"Intention to Coerce,Intimidate<br>or Publicize to Larger Audience\",\n",
    "    \"crit3\": \"Outside International<br>Humanitarian Law\",\n",
    "    \"doubtterr\": \"Doubt Terrorism Proper?\",\n",
    "}\n",
    "\n",
    "for col in [\"crit1\", \"crit2\", \"crit3\", \"doubtterr\"]:\n",
    "    fig.add_trace(go.Scatter(x=crit_counts[\"year\"], y=crit_counts[col], mode=\"lines+markers\", name=legend_labels[col]))\n",
    "\n",
    "fig.update_layout(\n",
    "    title=\"Different inclusion criterias over the years\",\n",
    "    xaxis_title=\"Year\",\n",
    "    yaxis_title=\"Count\",\n",
    "    xaxis={\"showspikes\": True},\n",
    "    hovermode=\"x unified\",\n",
    "    legend={\n",
    "        \"yanchor\": \"top\",\n",
    "        \"y\": 0.99,\n",
    "        \"xanchor\": \"right\",\n",
    "        \"x\": 0.99,\n",
    "        \"bgcolor\": \"rgba(0,0,0,0)\",\n",
    "    },\n",
    ")\n",
    "\n",
    "\n",
    "fig.show()\n"
   ]
  },
  {
   "cell_type": "markdown",
   "metadata": {},
   "source": [
    "*Most incidents meet all the three criterias*"
   ]
  },
  {
   "cell_type": "markdown",
   "metadata": {},
   "source": [
    "### Categorization of the incident other than terrorism"
   ]
  },
  {
   "cell_type": "code",
   "execution_count": null,
   "metadata": {},
   "outputs": [],
   "source": [
    "alt_counts = data[data[\"doubtterr\"] == 1].groupby([\"year\", \"alternative_txt\"]).size().reset_index(name=\"count\")\n"
   ]
  },
  {
   "cell_type": "code",
   "execution_count": null,
   "metadata": {},
   "outputs": [],
   "source": [
    "fig = line(\n",
    "    alt_counts,\n",
    "    x=\"year\",\n",
    "    y=\"count\",\n",
    "    color=\"alternative_txt\",\n",
    "    symbol=\"alternative_txt\",\n",
    "    labels={\"alternative_txt\": \"Alternative Designation\"},\n",
    ")\n",
    "fig.update_traces(hovertemplate=\"%{y}\")\n",
    "fig.update_layout(xaxis={\"showspikes\": True}, hovermode=\"x unified\")\n",
    "\n",
    "fig.show()\n"
   ]
  },
  {
   "cell_type": "markdown",
   "metadata": {},
   "source": [
    "*For uncategorized events most of them have been actions of Insurgency/Guerilla Action while there was a sudden rise in Other crime times in early 2000s.*"
   ]
  },
  {
   "cell_type": "markdown",
   "metadata": {},
   "source": [
    "## Attack Types"
   ]
  },
  {
   "cell_type": "code",
   "execution_count": null,
   "metadata": {},
   "outputs": [],
   "source": [
    "df = data\n",
    "attack_types_df = pd.melt(\n",
    "    df,\n",
    "    id_vars=[\"eventid\", \"year\", \"country_txt\", \"latitude\", \"longitude\", \"nkill\", \"nkillter\", \"nwound\", \"nwoundte\"],\n",
    "    value_vars=[\"attacktype1_txt\", \"attacktype2_txt\", \"attacktype3_txt\"],\n",
    "    var_name=\"attack_column\",\n",
    "    value_name=\"attack_type\",\n",
    ")\n",
    "\n",
    "attack_types_df = attack_types_df.dropna(subset=[\"attack_type\"])"
   ]
  },
  {
   "cell_type": "code",
   "execution_count": null,
   "metadata": {},
   "outputs": [],
   "source": [
    "figures = {}\n",
    "\n",
    "# 1. Attack Types Distribution Over Years\n",
    "yearly_distribution = attack_types_df.groupby([\"year\", \"attack_type\"]).size().reset_index(name=\"count\")\n",
    "figures[\"yearly_trend\"] = px.line(\n",
    "    yearly_distribution,\n",
    "    x=\"year\",\n",
    "    y=\"count\",\n",
    "    color=\"attack_type\",\n",
    "    title=\"Attack Types Distribution Over Years\",\n",
    "    labels={\"count\": \"Number of Attacks\", \"attack_type\": \"Attack Type\"},\n",
    "    template=\"plotly_white\",\n",
    ")\n",
    "\n",
    "# 2. Geographic Distribution (Bubble Map)\n",
    "geo_distribution = attack_types_df.groupby([\"latitude\", \"longitude\", \"country_txt\", \"attack_type\"]).size().reset_index(name=\"count\")\n",
    "figures[\"geo_distribution\"] = px.scatter_geo(\n",
    "    geo_distribution,\n",
    "    lat=\"latitude\",\n",
    "    lon=\"longitude\",\n",
    "    color=\"attack_type\",\n",
    "    size=\"count\",\n",
    "    hover_name=\"country_txt\",\n",
    "    title=\"Geographic Distribution of Attack Types\",\n",
    "    template=\"plotly_white\",\n",
    "    size_max=30,\n",
    ")\n",
    "\n",
    "figures[\"geo_distribution\"].update_layout(\n",
    "    geo={\n",
    "        \"scope\": \"europe\",\n",
    "    },\n",
    ")\n",
    "\n",
    "# 3. Attack Types by Country (Top 10 countries)\n",
    "country_distribution = attack_types_df.groupby([\"country_txt\", \"attack_type\"]).size().reset_index(name=\"count\")\n",
    "top_countries = country_distribution.groupby(\"country_txt\")[\"count\"].sum().nlargest(10).index\n",
    "country_distribution_filtered = country_distribution[country_distribution[\"country_txt\"].isin(top_countries)]\n",
    "\n",
    "figures[\"country_distribution\"] = px.bar(\n",
    "    country_distribution_filtered,\n",
    "    x=\"country_txt\",\n",
    "    y=\"count\",\n",
    "    color=\"attack_type\",\n",
    "    title=\"Attack Types Distribution by Country (Top 10)\",\n",
    "    labels={\"count\": \"Number of Attacks\", \"attack_type\": \"Attack Type\"},\n",
    "    template=\"plotly_white\",\n",
    "    barmode=\"stack\",\n",
    ")\n",
    "\n",
    "for fig in figures.values():\n",
    "    fig.show()\n"
   ]
  },
  {
   "cell_type": "markdown",
   "metadata": {},
   "source": [
    "*Most attacks have been Bombings and Explosion in the past however Facility/Infrastructure Attack has been on the rise in recent times. A large no. of assasination attacks have been recorded in United Kingdom* "
   ]
  },
  {
   "cell_type": "code",
   "execution_count": null,
   "metadata": {},
   "outputs": [],
   "source": [
    "unique_attacktypes = df[\"attacktype1_txt\"].unique()\n",
    "unique_years = df[\"year\"].unique()\n",
    "\n",
    "multi_index = pd.MultiIndex.from_product(\n",
    "    [unique_attacktypes, unique_years],\n",
    "    names=[\"attacktype1_txt\", \"year\"],\n",
    ")"
   ]
  },
  {
   "cell_type": "code",
   "execution_count": null,
   "metadata": {},
   "outputs": [],
   "source": [
    "# 3. Attack Types by Year\n",
    "yearly_distribution = df.groupby([\"attacktype1_txt\", \"year\"]).size().reset_index(name=\"count\")\n",
    "yearly_distribution.head()"
   ]
  },
  {
   "cell_type": "code",
   "execution_count": null,
   "metadata": {},
   "outputs": [],
   "source": [
    "complete_yearly_distribution = (\n",
    "    yearly_distribution\n",
    "    .set_index([\"attacktype1_txt\", \"year\"])\n",
    "    .reindex(multi_index, fill_value=0)\n",
    "    .reset_index()\n",
    ")"
   ]
  },
  {
   "cell_type": "code",
   "execution_count": null,
   "metadata": {},
   "outputs": [],
   "source": [
    "complete_yearly_distribution.loc[ (complete_yearly_distribution[\"attacktype1_txt\"] == \"Assassination\")]"
   ]
  },
  {
   "cell_type": "code",
   "execution_count": null,
   "metadata": {},
   "outputs": [],
   "source": [
    "yearly_distribution.loc[ (yearly_distribution[\"attacktype1_txt\"] == \"Assassination\")]"
   ]
  },
  {
   "cell_type": "code",
   "execution_count": null,
   "metadata": {},
   "outputs": [],
   "source": [
    "from plotly.colors import qualitative\n",
    "\n",
    "colors = qualitative.Dark24"
   ]
  },
  {
   "cell_type": "code",
   "execution_count": null,
   "metadata": {},
   "outputs": [],
   "source": [
    "fig = go.Figure()\n",
    "for idx, atype in enumerate(unique_attacktypes):\n",
    "    color = colors[idx % len(colors)]\n",
    "    y = complete_yearly_distribution.loc[complete_yearly_distribution[\"attacktype1_txt\"] == atype, \"count\"]\n",
    "    fig.add_trace(go.Scatter(\n",
    "        x = unique_years,\n",
    "        y=y,\n",
    "        mode=\"lines\",\n",
    "        line={\"width\": 0.5, \"color\": color},\n",
    "        stackgroup=\"one\",\n",
    "        name=atype,\n",
    "    ))\n",
    "\n",
    "fig.show()"
   ]
  },
  {
   "cell_type": "markdown",
   "metadata": {},
   "source": [
    "### Were they successful?"
   ]
  },
  {
   "cell_type": "code",
   "execution_count": null,
   "metadata": {},
   "outputs": [],
   "source": [
    "attack_success = data.groupby([\"year\", \"country_txt\"]).agg({\"success\":\"sum\", \"eventid\": \"count\"}).reset_index()\n",
    "years = sorted(data[\"year\"].unique())\n",
    "countries = sorted(data[\"country_txt\"].unique())"
   ]
  },
  {
   "cell_type": "code",
   "execution_count": null,
   "metadata": {},
   "outputs": [],
   "source": [
    "attack_success[\"successp\"] = attack_success[\"success\"] / attack_success[\"eventid\"]"
   ]
  },
  {
   "cell_type": "code",
   "execution_count": null,
   "metadata": {},
   "outputs": [],
   "source": [
    "\n",
    "# initial_year = years[0]\n",
    "\n",
    "# # Create the figure and add one trace per country (for the initial year)\n",
    "# fig = go.Figure()\n",
    "\n",
    "# for country in countries:\n",
    "#     attack_success_curr = attack_success[attack_success[\"country_txt\"]==country]\n",
    "#     fig.add_trace(\n",
    "#         go.Scatter(\n",
    "#             x=attack_success_curr[\"year\"],\n",
    "#             y=attack_success_curr[\"successp\"],\n",
    "#             mode=\"lines+markers\",\n",
    "#             name=country,\n",
    "#         ),\n",
    "#     )\n",
    "\n",
    "# fig.show()\n",
    "\n"
   ]
  },
  {
   "cell_type": "code",
   "execution_count": null,
   "metadata": {},
   "outputs": [],
   "source": [
    "success_prop = data.groupby([\"year\",\"success\", \"country_txt\"]).size().reset_index(name=\"counts\")"
   ]
  },
  {
   "cell_type": "code",
   "execution_count": null,
   "metadata": {},
   "outputs": [],
   "source": [
    "fig = go.Figure()\n",
    "\n",
    "initial_data = success_prop.groupby([\"year\",\"success\"])[\"counts\"].sum().reset_index()"
   ]
  },
  {
   "cell_type": "code",
   "execution_count": null,
   "metadata": {},
   "outputs": [],
   "source": [
    "# Create stacked area plot\n",
    "fig = px.area(initial_data, x=\"year\", y=\"counts\", color=\"success\",\n",
    "              color_discrete_sequence=[\"lightblue\", \"steelblue\"],groupnorm=\"percent\")\n",
    "\n",
    "fig.update_layout(\n",
    "    xaxis_title=\"years\",\n",
    "    yaxis_title=\"relative proportion\",\n",
    "    # yaxis_tickformat=\"%\",\n",
    "    legend_title=\"Success\",\n",
    ")\n",
    "\n",
    "fig.update_layout(\n",
    "    showlegend=True,\n",
    "    yaxis={\n",
    "        \"type\": \"linear\",\n",
    "        \"range\": [1, 100],\n",
    "        \"ticksuffix\": \"%\"})\n",
    "\n",
    "\n",
    "\n",
    "fig.show()\n"
   ]
  },
  {
   "cell_type": "markdown",
   "metadata": {},
   "source": [
    "*Most attacks have been successful throughout the history however there is a significant uptick in unsuccessful attacks in the past decade.*"
   ]
  },
  {
   "cell_type": "markdown",
   "metadata": {},
   "source": [
    "## Attack vs Casualities"
   ]
  },
  {
   "cell_type": "markdown",
   "metadata": {},
   "source": [
    "### Total"
   ]
  },
  {
   "cell_type": "code",
   "execution_count": null,
   "metadata": {},
   "outputs": [],
   "source": [
    "att_cas_stats = attack_types_df.groupby([\"year\",\"attack_type\"]).agg({\n",
    "    \"eventid\": \"count\",\n",
    "    \"nkill\": \"sum\",\n",
    "     \"nkillter\": \"sum\",\n",
    "     \"nwound\": \"sum\",\n",
    "     \"nwoundte\": \"sum\",\n",
    "})\n",
    "\n",
    "att_cas_stats[\"nkillc\"] = att_cas_stats[\"nkill\"] - att_cas_stats[\"nkillter\"]\n",
    "att_cas_stats[\"nwoundc\"] = att_cas_stats[\"nwound\"] - att_cas_stats[\"nwoundte\"]\n",
    "\n",
    "att_cas_stats=att_cas_stats.reset_index()"
   ]
  },
  {
   "cell_type": "code",
   "execution_count": null,
   "metadata": {},
   "outputs": [],
   "source": [
    "yearly_vs = att_cas_stats.groupby(\"attack_type\")[[\"eventid\", \"nkillc\"\t,\"nwoundc\",\"nwoundte\"\t,\"nkillter\"]].sum().reset_index()"
   ]
  },
  {
   "cell_type": "code",
   "execution_count": null,
   "metadata": {},
   "outputs": [],
   "source": [
    "fig1 = px.scatter(yearly_vs, x=\"nkillc\", y=\"nkillter\",\n",
    "           size=\"eventid\", color=\"attack_type\", hover_name=\"attack_type\",\n",
    "           log_x=False, size_max=150)\n",
    "\n",
    "fig1.update_layout(\n",
    "    title=\"Total Attack type vs Casualities\",\n",
    "    xaxis_title=\"Civilians Killed\",\n",
    "    yaxis_title=\"Terrorists Killed\",\n",
    ")\n",
    "\n",
    "fig2 = px.scatter(yearly_vs, x=\"nwoundc\", y=\"nwoundte\",\n",
    "           size=\"eventid\", color=\"attack_type\", hover_name=\"attack_type\",\n",
    "           log_x=False, size_max=150)\n",
    "\n",
    "fig2.update_layout(\n",
    "    title=\"Total Attack type vs Wounds\",\n",
    "    xaxis_title=\"Civilians Wounded\",\n",
    "    yaxis_title=\"Terrorists Wounded\",\n",
    ")\n",
    "\n",
    "fig1.show()\n",
    "fig2.show()"
   ]
  },
  {
   "cell_type": "markdown",
   "metadata": {},
   "source": [
    "- Significant terrorists have been killed in Bombings and Armed Assaults.\n",
    "- However Bombings have caused way more civilians death in proportion.\n",
    "- Assasination however have caused way more civilian deaths as compared to terrorists and have been the most gruesome attack types.\n",
    "- Facility infrastruce attacks though are large in number have had fairly less significant caualities and consequences."
   ]
  },
  {
   "cell_type": "markdown",
   "metadata": {},
   "source": [
    "### Per Year"
   ]
  },
  {
   "cell_type": "code",
   "execution_count": null,
   "metadata": {},
   "outputs": [],
   "source": [
    "fig1 = px.scatter(att_cas_stats, x=\"nkillc\", y=\"nkillter\", animation_frame=\"year\", animation_group=\"year\",\n",
    "           size=\"eventid\", color=\"attack_type\", hover_name=\"attack_type\",\n",
    "           log_x=False, size_max=150)\n",
    "\n",
    "fig1.update_layout(\n",
    "    title=\"Attack type vs Casualities per year\",\n",
    "    xaxis_title=\"Civilians Killed\",\n",
    "    yaxis_title=\"Terrorists Killed\",\n",
    ")\n",
    "\n",
    "\n",
    "fig2 = px.scatter(att_cas_stats, x=\"nwoundc\", y=\"nwoundte\", animation_frame=\"year\", animation_group=\"year\",\n",
    "           size=\"eventid\", color=\"attack_type\", hover_name=\"attack_type\",\n",
    "           log_x=False, size_max=150)\n",
    "\n",
    "fig2.update_layout(\n",
    "    title=\"Attack type vs Wounds per year\",\n",
    "    xaxis_title=\"Civilians Killed\",\n",
    "    yaxis_title=\"Terrorists Killed\",\n",
    ")\n",
    "\n",
    "fig1.show()\n",
    "fig2.show()"
   ]
  },
  {
   "cell_type": "markdown",
   "metadata": {},
   "source": [
    "# Weapons"
   ]
  },
  {
   "cell_type": "code",
   "execution_count": null,
   "metadata": {},
   "outputs": [],
   "source": [
    "def reshape_weapons_data(df, name1, name2, number, suff=\"_txt\"):\n",
    "    rows = []\n",
    "\n",
    "    for _, row in df.iterrows():\n",
    "        for i in range(1, number+1):\n",
    "            weapon_type = row[f\"{name1}{i}{suff}\"]\n",
    "            weapon_subtype = row[f\"{name2}{i}{suff}\"]\n",
    "\n",
    "            if pd.notna(weapon_type):\n",
    "                new_row = {col: row[col] for col in df.columns\n",
    "                          if not (col.startswith((f\"{name1}\", f\"{name2}\")))}\n",
    "\n",
    "                new_row[name1] = weapon_type\n",
    "                new_row[name2] = weapon_subtype if pd.notna(weapon_subtype) else None\n",
    "\n",
    "                rows.append(new_row)\n",
    "\n",
    "    result_df = pd.DataFrame(rows)\n",
    "\n",
    "    return result_df\n",
    "\n",
    "reshaped_df = reshape_weapons_data(data[[\"eventid\", \"weaptype1_txt\",  \"weapsubtype1_txt\", \"weaptype2_txt\",    \"weapsubtype2_txt\", \"weaptype3_txt\",    \"weapsubtype3_txt\", \"weaptype4_txt\",    \"weapsubtype4_txt\"]], \"weaptype\", \"weapsubtype\", 4)\n"
   ]
  },
  {
   "cell_type": "code",
   "execution_count": null,
   "metadata": {},
   "outputs": [],
   "source": [
    "grouped_df = reshaped_df.groupby([\"weaptype\", \"weapsubtype\"]).size().reset_index(name=\"count\")\n",
    "fig = px.bar(\n",
    "    grouped_df,\n",
    "    x=\"count\",\n",
    "    y=\"weaptype\",\n",
    "    color=\"weapsubtype\",\n",
    "    orientation=\"h\",\n",
    "    title=\"Weapon Types by Subtype (Stacked Horizontal Bar Chart)\",\n",
    "    labels={\"count\": \"Count\", \"weaptype\": \"Weapon Type\"},\n",
    "    color_discrete_sequence=px.colors.qualitative.Pastel,\n",
    "    custom_data=[\"weapsubtype\", \"count\"],\n",
    ")\n",
    "fig.update_layout(\n",
    "    barmode=\"stack\",\n",
    "    legend_title=\"Weapon Subtype\",\n",
    "    height=500,\n",
    "    width=800,\n",
    "    xaxis=dict(title=\"Count\", showgrid=True),  # noqa: C408\n",
    "    yaxis=dict(title=\"Weapon Type\", categoryorder=\"total ascending\"),  # noqa: C408\n",
    "    hovermode=\"y unified\",\n",
    ")\n",
    "\n",
    "fig.update_traces(\n",
    "    hovertemplate=\"%{customdata[0]}: %{customdata[1]}<extra></extra>\",\n",
    ")\n",
    "\n",
    "totals = grouped_df.groupby(\"weaptype\")[\"count\"].sum()\n",
    "for i, total in enumerate(totals):\n",
    "    fig.add_annotation(\n",
    "        x=total,\n",
    "        y=totals.index[i],\n",
    "        text=str(total),\n",
    "        showarrow=False,\n",
    "        xshift=10,\n",
    "    )\n",
    "fig.show()"
   ]
  },
  {
   "cell_type": "markdown",
   "metadata": {},
   "source": [
    "- Explosives rank as the most commonly used weapon type, aligning with the high frequency of bombings and explosions.\n",
    "- Firearms follow at a considerable distance behind explosives, with handguns being the leading subtype, accounting for over 30% of firearm-related incidents.\n",
    "- Arson and fire-related attacks also constitute a notable portion of the data."
   ]
  },
  {
   "cell_type": "markdown",
   "metadata": {},
   "source": [
    "# Target"
   ]
  },
  {
   "cell_type": "code",
   "execution_count": null,
   "metadata": {},
   "outputs": [],
   "source": [
    "reshaped_df = reshape_weapons_data(data[[\"eventid\", \"targtype1\", \"targsubtype1\", \"targtype2\", \"targsubtype2\", \"targtype3\",    \"targsubtype3\"]], \"targtype\", \"targsubtype\",3, \"\")\n",
    "reshaped_df = reshaped_df.sort_values([\"targtype\", \"targsubtype\"])\n",
    "reshaped_df[\"targtype\"] = reshaped_df[\"targtype\"].fillna(0).astype(int).astype(str)\n",
    "reshaped_df[\"targsubtype\"] = reshaped_df[\"targsubtype\"].fillna(0).astype(int).astype(str)\n"
   ]
  },
  {
   "cell_type": "code",
   "execution_count": null,
   "metadata": {},
   "outputs": [],
   "source": [
    "grouped_df = reshaped_df.groupby([\"targtype\", \"targsubtype\"]).size().reset_index(name=\"count\")\n"
   ]
  },
  {
   "cell_type": "code",
   "execution_count": null,
   "metadata": {},
   "outputs": [],
   "source": [
    "fig = px.density_heatmap(reshaped_df, x=\"targtype\", y=\"targsubtype\")\n",
    "fig.show()"
   ]
  },
  {
   "cell_type": "markdown",
   "metadata": {},
   "source": [
    "# Perpetrator"
   ]
  },
  {
   "cell_type": "code",
   "execution_count": null,
   "metadata": {},
   "outputs": [],
   "source": [
    "perp_data = data.rename(columns={\"gname\": \"gname1\", \"gsubname\": \"gsubname1\"})\n",
    "reshaped_df = reshape_weapons_data(perp_data[[\"gname1\",\"gsubname1\",\"gname2\",\"gsubname2\",\"gname3\",\"gsubname3\"]], \"gname\", \"gsubname\",3, \"\")\n",
    "grouped_df1 = reshaped_df.groupby([\"gname\"]).size().reset_index(name=\"count\")\n",
    "reshaped_df = reshaped_df.fillna(\"Unknown\")"
   ]
  },
  {
   "cell_type": "code",
   "execution_count": null,
   "metadata": {},
   "outputs": [],
   "source": [
    "grouped_df1 = grouped_df1[grouped_df1[\"gname\"] != \"Unknown\"]\n",
    "top_10 = grouped_df1.sort_values(\"count\", ascending=False).head(10)[\"gname\"]"
   ]
  },
  {
   "cell_type": "code",
   "execution_count": null,
   "metadata": {},
   "outputs": [],
   "source": [
    "grouped_df = reshaped_df[reshaped_df[\"gname\"].isin(top_10)].groupby([\"gname\",\"gsubname\"]).size().reset_index(name=\"count\")\n",
    "grouped_df[\"gname\"].unique()"
   ]
  },
  {
   "cell_type": "code",
   "execution_count": null,
   "metadata": {},
   "outputs": [],
   "source": [
    "fig = px.bar(\n",
    "    grouped_df,\n",
    "    x=\"count\",\n",
    "    y=\"gname\",\n",
    "    # color=\"gsubname\",\n",
    "    orientation=\"h\",\n",
    "    title=\"Top Perpetrators\",\n",
    "    labels={\"count\": \"Count\", \"gname\": \"Perpetrator\"},\n",
    "    # color_discrete_sequence=px.colors.qualitative.Pastel,\n",
    "    # custom_data=[\"gsubname\", \"count\"],\n",
    ")\n",
    "fig.update_layout(\n",
    "    # barmode=\"stack\",\n",
    "    # height=500,\n",
    "    # width=800,\n",
    "    xaxis=dict(title=\"Count\", showgrid=True),  # noqa: C408\n",
    "    yaxis=dict(title=\"Perpetrator\", categoryorder=\"total ascending\"),  # noqa: C408\n",
    "    hovermode=\"y unified\",\n",
    "    showlegend=False,\n",
    ")\n",
    "\n",
    "# fig.update_traces(\n",
    "#     hovertemplate=\"%{customdata[0]}: %{customdata[1]}<extra></extra>\",\n",
    "# )\n",
    "\n",
    "totals = grouped_df.groupby(\"gname\")[\"count\"].sum()\n",
    "for i, total in enumerate(totals):\n",
    "    fig.add_annotation(\n",
    "        x=total,\n",
    "        y=totals.index[i],\n",
    "        text=str(total),\n",
    "        showarrow=False,\n",
    "        xshift=10,\n",
    "    )\n",
    "fig.show()"
   ]
  },
  {
   "cell_type": "markdown",
   "metadata": {},
   "source": [
    "*Other than Unknown perptrators, Irish Republican Army is the top perpetrators which explains the number of attacks in the United Kingdom, and them being centered around Northern Ireland*"
   ]
  }
 ],
 "metadata": {
  "kernelspec": {
   "display_name": ".venv",
   "language": "python",
   "name": "python3"
  },
  "language_info": {
   "codemirror_mode": {
    "name": "ipython",
    "version": 3
   },
   "file_extension": ".py",
   "mimetype": "text/x-python",
   "name": "python",
   "nbconvert_exporter": "python",
   "pygments_lexer": "ipython3",
   "version": "3.12.2"
  }
 },
 "nbformat": 4,
 "nbformat_minor": 2
}
